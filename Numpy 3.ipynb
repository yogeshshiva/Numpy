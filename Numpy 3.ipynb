{
 "cells": [
  {
   "cell_type": "markdown",
   "id": "a8ed627a",
   "metadata": {},
   "source": [
    "# Difference Between copy and view"
   ]
  },
  {
   "cell_type": "code",
   "execution_count": 2,
   "id": "af403bf9",
   "metadata": {},
   "outputs": [],
   "source": [
    "import numpy as np"
   ]
  },
  {
   "cell_type": "code",
   "execution_count": 3,
   "id": "097e1568",
   "metadata": {
    "scrolled": true
   },
   "outputs": [
    {
     "data": {
      "text/plain": [
       "array([2, 4, 6, 8])"
      ]
     },
     "execution_count": 3,
     "metadata": {},
     "output_type": "execute_result"
    }
   ],
   "source": [
    "h = np.array([2,4,6,8])\n",
    "h"
   ]
  },
  {
   "cell_type": "code",
   "execution_count": 4,
   "id": "92e359df",
   "metadata": {},
   "outputs": [
    {
     "data": {
      "text/plain": [
       "array([2, 4, 6, 8])"
      ]
     },
     "execution_count": 4,
     "metadata": {},
     "output_type": "execute_result"
    }
   ],
   "source": [
    "j = h.copy()\n",
    "j"
   ]
  },
  {
   "cell_type": "code",
   "execution_count": 6,
   "id": "2a9b6500",
   "metadata": {},
   "outputs": [],
   "source": [
    "h[2]=5"
   ]
  },
  {
   "cell_type": "code",
   "execution_count": 7,
   "id": "eb7f7425",
   "metadata": {},
   "outputs": [
    {
     "data": {
      "text/plain": [
       "array([2, 4, 5, 8])"
      ]
     },
     "execution_count": 7,
     "metadata": {},
     "output_type": "execute_result"
    }
   ],
   "source": [
    "h"
   ]
  },
  {
   "cell_type": "code",
   "execution_count": 8,
   "id": "26d5f7a2",
   "metadata": {},
   "outputs": [
    {
     "data": {
      "text/plain": [
       "array([2, 4, 6, 8])"
      ]
     },
     "execution_count": 8,
     "metadata": {},
     "output_type": "execute_result"
    }
   ],
   "source": [
    "j"
   ]
  },
  {
   "cell_type": "code",
   "execution_count": 17,
   "id": "80aa06fe",
   "metadata": {},
   "outputs": [
    {
     "data": {
      "text/plain": [
       "array([1, 3, 5, 7])"
      ]
     },
     "execution_count": 17,
     "metadata": {},
     "output_type": "execute_result"
    }
   ],
   "source": [
    "s = np.array([1,3,5,7])\n",
    "s"
   ]
  },
  {
   "cell_type": "code",
   "execution_count": 18,
   "id": "0a17b8d9",
   "metadata": {},
   "outputs": [
    {
     "data": {
      "text/plain": [
       "array([1, 3, 5, 7])"
      ]
     },
     "execution_count": 18,
     "metadata": {},
     "output_type": "execute_result"
    }
   ],
   "source": [
    "k = s.view()\n",
    "k"
   ]
  },
  {
   "cell_type": "code",
   "execution_count": 19,
   "id": "b47b3d45",
   "metadata": {},
   "outputs": [],
   "source": [
    "s[2]=4"
   ]
  },
  {
   "cell_type": "code",
   "execution_count": 20,
   "id": "d9834d85",
   "metadata": {},
   "outputs": [
    {
     "data": {
      "text/plain": [
       "array([1, 3, 4, 7])"
      ]
     },
     "execution_count": 20,
     "metadata": {},
     "output_type": "execute_result"
    }
   ],
   "source": [
    "s"
   ]
  },
  {
   "cell_type": "code",
   "execution_count": 21,
   "id": "dad00d5d",
   "metadata": {},
   "outputs": [
    {
     "data": {
      "text/plain": [
       "array([1, 3, 4, 7])"
      ]
     },
     "execution_count": 21,
     "metadata": {},
     "output_type": "execute_result"
    }
   ],
   "source": [
    "k"
   ]
  },
  {
   "cell_type": "code",
   "execution_count": 22,
   "id": "3e2f80cc",
   "metadata": {},
   "outputs": [
    {
     "data": {
      "text/plain": [
       "array([1, 2, 3, 4, 5, 6, 7, 8, 9])"
      ]
     },
     "execution_count": 22,
     "metadata": {},
     "output_type": "execute_result"
    }
   ],
   "source": [
    "y = np.array([1,2,3,4,5,6,7,8,9])\n",
    "y"
   ]
  },
  {
   "cell_type": "code",
   "execution_count": 23,
   "id": "4afdb4a4",
   "metadata": {},
   "outputs": [
    {
     "data": {
      "text/plain": [
       "array([1, 2, 3, 4, 5, 6, 7, 8, 9])"
      ]
     },
     "execution_count": 23,
     "metadata": {},
     "output_type": "execute_result"
    }
   ],
   "source": [
    "e = y.copy()\n",
    "e"
   ]
  },
  {
   "cell_type": "code",
   "execution_count": 24,
   "id": "6df90257",
   "metadata": {},
   "outputs": [
    {
     "data": {
      "text/plain": [
       "array([1, 2, 3, 4, 5, 6, 7, 8, 9])"
      ]
     },
     "execution_count": 24,
     "metadata": {},
     "output_type": "execute_result"
    }
   ],
   "source": [
    "u = y.view()\n",
    "u"
   ]
  },
  {
   "cell_type": "code",
   "execution_count": 25,
   "id": "1652bfbb",
   "metadata": {},
   "outputs": [],
   "source": [
    "y[4]=0"
   ]
  },
  {
   "cell_type": "code",
   "execution_count": 26,
   "id": "8a4ad8c2",
   "metadata": {},
   "outputs": [
    {
     "data": {
      "text/plain": [
       "array([1, 2, 3, 4, 0, 6, 7, 8, 9])"
      ]
     },
     "execution_count": 26,
     "metadata": {},
     "output_type": "execute_result"
    }
   ],
   "source": [
    "y"
   ]
  },
  {
   "cell_type": "code",
   "execution_count": 27,
   "id": "aa9af853",
   "metadata": {},
   "outputs": [
    {
     "data": {
      "text/plain": [
       "array([1, 2, 3, 4, 5, 6, 7, 8, 9])"
      ]
     },
     "execution_count": 27,
     "metadata": {},
     "output_type": "execute_result"
    }
   ],
   "source": [
    "e"
   ]
  },
  {
   "cell_type": "code",
   "execution_count": 28,
   "id": "86cec728",
   "metadata": {
    "scrolled": true
   },
   "outputs": [
    {
     "data": {
      "text/plain": [
       "array([1, 2, 3, 4, 0, 6, 7, 8, 9])"
      ]
     },
     "execution_count": 28,
     "metadata": {},
     "output_type": "execute_result"
    }
   ],
   "source": [
    "u"
   ]
  },
  {
   "cell_type": "code",
   "execution_count": 37,
   "id": "fa7a7bd6",
   "metadata": {},
   "outputs": [
    {
     "data": {
      "text/plain": [
       "array([[1, 2, 3],\n",
       "       [4, 5, 6]])"
      ]
     },
     "execution_count": 37,
     "metadata": {},
     "output_type": "execute_result"
    }
   ],
   "source": [
    "var = np.array([[1,2,3],[4,5,6]])\n",
    "var"
   ]
  },
  {
   "cell_type": "code",
   "execution_count": 38,
   "id": "c40f9bcb",
   "metadata": {},
   "outputs": [
    {
     "data": {
      "text/plain": [
       "array([[1, 2, 3],\n",
       "       [4, 5, 6]])"
      ]
     },
     "execution_count": 38,
     "metadata": {},
     "output_type": "execute_result"
    }
   ],
   "source": [
    "var1 = var.copy()\n",
    "var1"
   ]
  },
  {
   "cell_type": "code",
   "execution_count": 39,
   "id": "3fdd16d8",
   "metadata": {
    "scrolled": true
   },
   "outputs": [
    {
     "data": {
      "text/plain": [
       "array([[1, 2, 3],\n",
       "       [4, 5, 6]])"
      ]
     },
     "execution_count": 39,
     "metadata": {},
     "output_type": "execute_result"
    }
   ],
   "source": [
    "var2 = var.view()\n",
    "var2"
   ]
  },
  {
   "cell_type": "code",
   "execution_count": 40,
   "id": "a0bc142f",
   "metadata": {},
   "outputs": [],
   "source": [
    "var[1]=7"
   ]
  },
  {
   "cell_type": "code",
   "execution_count": 43,
   "id": "1aae6dd5",
   "metadata": {},
   "outputs": [
    {
     "data": {
      "text/plain": [
       "array([[1, 2, 3],\n",
       "       [7, 7, 7]])"
      ]
     },
     "execution_count": 43,
     "metadata": {},
     "output_type": "execute_result"
    }
   ],
   "source": [
    "var"
   ]
  },
  {
   "cell_type": "code",
   "execution_count": 45,
   "id": "1ef25d5b",
   "metadata": {
    "scrolled": true
   },
   "outputs": [
    {
     "data": {
      "text/plain": [
       "array([[1, 2, 3],\n",
       "       [4, 5, 6]])"
      ]
     },
     "execution_count": 45,
     "metadata": {},
     "output_type": "execute_result"
    }
   ],
   "source": [
    "var1"
   ]
  },
  {
   "cell_type": "code",
   "execution_count": 46,
   "id": "28fbfd5a",
   "metadata": {
    "scrolled": true
   },
   "outputs": [
    {
     "data": {
      "text/plain": [
       "array([[1, 2, 3],\n",
       "       [7, 7, 7]])"
      ]
     },
     "execution_count": 46,
     "metadata": {},
     "output_type": "execute_result"
    }
   ],
   "source": [
    "var2"
   ]
  },
  {
   "cell_type": "code",
   "execution_count": 51,
   "id": "2f5e8500",
   "metadata": {},
   "outputs": [],
   "source": [
    "var[1][1]=8\n",
    "var[1][2]=9"
   ]
  },
  {
   "cell_type": "code",
   "execution_count": 52,
   "id": "cb9e5903",
   "metadata": {
    "scrolled": true
   },
   "outputs": [
    {
     "data": {
      "text/plain": [
       "array([[1, 2, 3],\n",
       "       [7, 8, 9]])"
      ]
     },
     "execution_count": 52,
     "metadata": {},
     "output_type": "execute_result"
    }
   ],
   "source": [
    "var"
   ]
  },
  {
   "cell_type": "code",
   "execution_count": 53,
   "id": "c10e6288",
   "metadata": {},
   "outputs": [
    {
     "data": {
      "text/plain": [
       "array([[1, 2, 3],\n",
       "       [4, 5, 6]])"
      ]
     },
     "execution_count": 53,
     "metadata": {},
     "output_type": "execute_result"
    }
   ],
   "source": [
    "var1"
   ]
  },
  {
   "cell_type": "code",
   "execution_count": 54,
   "id": "13eea20b",
   "metadata": {},
   "outputs": [
    {
     "data": {
      "text/plain": [
       "array([[1, 2, 3],\n",
       "       [7, 8, 9]])"
      ]
     },
     "execution_count": 54,
     "metadata": {},
     "output_type": "execute_result"
    }
   ],
   "source": [
    "var2"
   ]
  },
  {
   "cell_type": "markdown",
   "id": "ca321ebb",
   "metadata": {},
   "source": [
    "\n",
    "# Join Array"
   ]
  },
  {
   "cell_type": "code",
   "execution_count": 29,
   "id": "a99db34b",
   "metadata": {},
   "outputs": [
    {
     "data": {
      "text/plain": [
       "array([1, 2, 3, 4, 5, 6, 7, 8])"
      ]
     },
     "execution_count": 29,
     "metadata": {},
     "output_type": "execute_result"
    }
   ],
   "source": [
    "var1 = np.array([1,2,3,4])\n",
    "var2 = np.array([5,6,7,8])\n",
    "s = np.concatenate([var1,var2])\n",
    "s"
   ]
  },
  {
   "cell_type": "code",
   "execution_count": 30,
   "id": "376e04e6",
   "metadata": {},
   "outputs": [
    {
     "data": {
      "text/plain": [
       "array([1, 2, 3, 4, 5, 6])"
      ]
     },
     "execution_count": 30,
     "metadata": {},
     "output_type": "execute_result"
    }
   ],
   "source": [
    "g = np.array([1,2,3])\n",
    "j = np.array([4,5,6])\n",
    "e = np.concatenate((g,j))\n",
    "e"
   ]
  },
  {
   "cell_type": "code",
   "execution_count": 33,
   "id": "8784edbb",
   "metadata": {},
   "outputs": [
    {
     "data": {
      "text/plain": [
       "array([[ 1,  2,  3],\n",
       "       [ 4,  5,  6],\n",
       "       [10, 20, 30],\n",
       "       [40, 50, 60]])"
      ]
     },
     "execution_count": 33,
     "metadata": {},
     "output_type": "execute_result"
    }
   ],
   "source": [
    "u = np.array([[1,2,3],[4,5,6]])\n",
    "i = np.array([[10,20,30],[40,50,60]])\n",
    "h = np.concatenate([u,i])\n",
    "h"
   ]
  },
  {
   "cell_type": "code",
   "execution_count": 64,
   "id": "9914b989",
   "metadata": {},
   "outputs": [
    {
     "data": {
      "text/plain": [
       "array([[ 1,  2,  3, 10, 20, 30],\n",
       "       [ 4,  5,  6, 40, 50, 60]])"
      ]
     },
     "execution_count": 64,
     "metadata": {},
     "output_type": "execute_result"
    }
   ],
   "source": [
    "u = np.array([[1,2,3],[4,5,6]])                               # axis = 1\n",
    "i = np.array([[10,20,30],[40,50,60]])\n",
    "h = np.concatenate([u,i],axis=1)\n",
    "h"
   ]
  },
  {
   "cell_type": "code",
   "execution_count": 59,
   "id": "cc63e939",
   "metadata": {},
   "outputs": [
    {
     "data": {
      "text/plain": [
       "array([[2, 4, 6, 8],\n",
       "       [1, 3, 5, 7]])"
      ]
     },
     "execution_count": 59,
     "metadata": {},
     "output_type": "execute_result"
    }
   ],
   "source": [
    "h = np.array([2,4,6,8])\n",
    "o = np.array([1,3,5,7])\n",
    "t = np.stack((h,o))\n",
    "t"
   ]
  },
  {
   "cell_type": "code",
   "execution_count": 62,
   "id": "4cedfca4",
   "metadata": {},
   "outputs": [
    {
     "data": {
      "text/plain": [
       "array([[2, 1],\n",
       "       [4, 3],\n",
       "       [6, 5],\n",
       "       [8, 7]])"
      ]
     },
     "execution_count": 62,
     "metadata": {},
     "output_type": "execute_result"
    }
   ],
   "source": [
    "h = np.array([2,4,6,8])                              # axis = 1\n",
    "o = np.array([1,3,5,7])\n",
    "t = np.stack((h,o),axis=1)\n",
    "t"
   ]
  },
  {
   "cell_type": "code",
   "execution_count": 65,
   "id": "0821480d",
   "metadata": {},
   "outputs": [
    {
     "data": {
      "text/plain": [
       "array([2, 4, 6, 8, 1, 3, 5, 7])"
      ]
     },
     "execution_count": 65,
     "metadata": {},
     "output_type": "execute_result"
    }
   ],
   "source": [
    "h = np.array([2,4,6,8])\n",
    "o = np.array([1,3,5,7])\n",
    "t = np.hstack((h,o))\n",
    "t"
   ]
  },
  {
   "cell_type": "code",
   "execution_count": 66,
   "id": "63a085cb",
   "metadata": {},
   "outputs": [
    {
     "data": {
      "text/plain": [
       "array([[2, 4, 6, 8],\n",
       "       [1, 3, 5, 7]])"
      ]
     },
     "execution_count": 66,
     "metadata": {},
     "output_type": "execute_result"
    }
   ],
   "source": [
    "h = np.array([2,4,6,8])\n",
    "o = np.array([1,3,5,7])\n",
    "t = np.vstack((h,o))\n",
    "t"
   ]
  },
  {
   "cell_type": "code",
   "execution_count": 67,
   "id": "5f6e22cc",
   "metadata": {},
   "outputs": [
    {
     "data": {
      "text/plain": [
       "array([[[2, 1],\n",
       "        [4, 3],\n",
       "        [6, 5],\n",
       "        [8, 7]]])"
      ]
     },
     "execution_count": 67,
     "metadata": {},
     "output_type": "execute_result"
    }
   ],
   "source": [
    "h = np.array([2,4,6,8])\n",
    "o = np.array([1,3,5,7])\n",
    "t = np.dstack((h,o))\n",
    "t"
   ]
  },
  {
   "cell_type": "code",
   "execution_count": 68,
   "id": "e4fcac12",
   "metadata": {},
   "outputs": [
    {
     "data": {
      "text/plain": [
       "array([[[1, 2, 3],\n",
       "        [4, 5, 6]],\n",
       "\n",
       "       [[2, 4, 6],\n",
       "        [1, 3, 5]]])"
      ]
     },
     "execution_count": 68,
     "metadata": {},
     "output_type": "execute_result"
    }
   ],
   "source": [
    "r = np.array([[1,2,3],[4,5,6]])\n",
    "e = np.array([[2,4,6],[1,3,5]])\n",
    "g = np.stack([r,e])\n",
    "g"
   ]
  },
  {
   "cell_type": "code",
   "execution_count": 69,
   "id": "b11f3486",
   "metadata": {},
   "outputs": [
    {
     "data": {
      "text/plain": [
       "array([[1, 2, 3, 2, 4, 6],\n",
       "       [4, 5, 6, 1, 3, 5]])"
      ]
     },
     "execution_count": 69,
     "metadata": {},
     "output_type": "execute_result"
    }
   ],
   "source": [
    "r = np.array([[1,2,3],[4,5,6]])\n",
    "e = np.array([[2,4,6],[1,3,5]])\n",
    "g = np.hstack([r,e])\n",
    "g"
   ]
  },
  {
   "cell_type": "code",
   "execution_count": 70,
   "id": "4b9b115d",
   "metadata": {},
   "outputs": [
    {
     "data": {
      "text/plain": [
       "array([[1, 2, 3],\n",
       "       [4, 5, 6],\n",
       "       [2, 4, 6],\n",
       "       [1, 3, 5]])"
      ]
     },
     "execution_count": 70,
     "metadata": {},
     "output_type": "execute_result"
    }
   ],
   "source": [
    "r = np.array([[1,2,3],[4,5,6]])\n",
    "e = np.array([[2,4,6],[1,3,5]])\n",
    "g = np.vstack([r,e])\n",
    "g"
   ]
  },
  {
   "cell_type": "code",
   "execution_count": 71,
   "id": "f18ab54d",
   "metadata": {},
   "outputs": [
    {
     "data": {
      "text/plain": [
       "array([[[1, 2],\n",
       "        [2, 4],\n",
       "        [3, 6]],\n",
       "\n",
       "       [[4, 1],\n",
       "        [5, 3],\n",
       "        [6, 5]]])"
      ]
     },
     "execution_count": 71,
     "metadata": {},
     "output_type": "execute_result"
    }
   ],
   "source": [
    "r = np.array([[1,2,3],[4,5,6]])\n",
    "e = np.array([[2,4,6],[1,3,5]])\n",
    "g = np.dstack([r,e])\n",
    "g"
   ]
  },
  {
   "cell_type": "markdown",
   "id": "d6ac57b8",
   "metadata": {},
   "source": [
    "# Split Array"
   ]
  },
  {
   "cell_type": "code",
   "execution_count": 91,
   "id": "74bae495",
   "metadata": {},
   "outputs": [
    {
     "data": {
      "text/plain": [
       "[array([1, 2, 3]), array([4, 5, 6])]"
      ]
     },
     "execution_count": 91,
     "metadata": {},
     "output_type": "execute_result"
    }
   ],
   "source": [
    "u = np.array([1,2,3,4,5,6])\n",
    "i = np.array_split(u,2)\n",
    "i"
   ]
  },
  {
   "cell_type": "code",
   "execution_count": 92,
   "id": "221358d3",
   "metadata": {},
   "outputs": [
    {
     "data": {
      "text/plain": [
       "array([ 1,  2,  3,  4,  5,  6,  7,  8,  9, 10, 11, 12, 13, 14, 15, 16, 17,\n",
       "       18, 19, 20])"
      ]
     },
     "execution_count": 92,
     "metadata": {},
     "output_type": "execute_result"
    }
   ],
   "source": [
    "l = np.array([1,2,3,4,5,6,7,8,9,10,11,12,13,14,15,16,17,18,19,20])\n",
    "l"
   ]
  },
  {
   "cell_type": "code",
   "execution_count": 93,
   "id": "e146b915",
   "metadata": {},
   "outputs": [
    {
     "data": {
      "text/plain": [
       "[array([1, 2, 3, 4, 5]),\n",
       " array([ 6,  7,  8,  9, 10]),\n",
       " array([11, 12, 13, 14, 15]),\n",
       " array([16, 17, 18, 19, 20])]"
      ]
     },
     "execution_count": 93,
     "metadata": {},
     "output_type": "execute_result"
    }
   ],
   "source": [
    "s = np.array_split(l,4)\n",
    "s"
   ]
  },
  {
   "cell_type": "code",
   "execution_count": 95,
   "id": "800a609a",
   "metadata": {},
   "outputs": [
    {
     "data": {
      "text/plain": [
       "array([[ 1,  2,  3,  4,  5],\n",
       "       [ 6,  7,  8,  9, 10],\n",
       "       [11, 12, 13, 14, 15],\n",
       "       [16, 17, 18, 19, 20]])"
      ]
     },
     "execution_count": 95,
     "metadata": {},
     "output_type": "execute_result"
    }
   ],
   "source": [
    "o = np.array([[1,2,3,4,5],[6,7,8,9,10],[11,12,13,14,15],[16,17,18,19,20]])\n",
    "o"
   ]
  },
  {
   "cell_type": "code",
   "execution_count": 109,
   "id": "b8c5ef8b",
   "metadata": {
    "scrolled": true
   },
   "outputs": [
    {
     "data": {
      "text/plain": [
       "[array([[ 1,  2,  3,  4,  5],\n",
       "        [ 6,  7,  8,  9, 10]]),\n",
       " array([[11, 12, 13, 14, 15],\n",
       "        [16, 17, 18, 19, 20]])]"
      ]
     },
     "execution_count": 109,
     "metadata": {},
     "output_type": "execute_result"
    }
   ],
   "source": [
    "u = np.array_split(o,2)\n",
    "u"
   ]
  },
  {
   "cell_type": "code",
   "execution_count": 110,
   "id": "645dfc7c",
   "metadata": {},
   "outputs": [
    {
     "data": {
      "text/plain": [
       "[array([[ 1,  2,  3],\n",
       "        [ 6,  7,  8],\n",
       "        [11, 12, 13],\n",
       "        [16, 17, 18]]),\n",
       " array([[ 4,  5],\n",
       "        [ 9, 10],\n",
       "        [14, 15],\n",
       "        [19, 20]])]"
      ]
     },
     "execution_count": 110,
     "metadata": {},
     "output_type": "execute_result"
    }
   ],
   "source": [
    "u = np.array_split(o,2,axis=1)\n",
    "u"
   ]
  },
  {
   "cell_type": "code",
   "execution_count": 111,
   "id": "b74604eb",
   "metadata": {},
   "outputs": [
    {
     "data": {
      "text/plain": [
       "array([[ 1,  2,  3],\n",
       "       [ 6,  7,  8],\n",
       "       [11, 12, 13],\n",
       "       [16, 17, 18]])"
      ]
     },
     "execution_count": 111,
     "metadata": {},
     "output_type": "execute_result"
    }
   ],
   "source": [
    "u[0]"
   ]
  },
  {
   "cell_type": "code",
   "execution_count": 112,
   "id": "ac810960",
   "metadata": {},
   "outputs": [
    {
     "data": {
      "text/plain": [
       "array([[ 1,  2,  3,  4,  5],\n",
       "       [ 6,  7,  8,  9, 10],\n",
       "       [11, 12, 13, 14, 15],\n",
       "       [16, 17, 18, 19, 20]])"
      ]
     },
     "execution_count": 112,
     "metadata": {},
     "output_type": "execute_result"
    }
   ],
   "source": [
    "o"
   ]
  },
  {
   "cell_type": "code",
   "execution_count": 113,
   "id": "9970ca7f",
   "metadata": {},
   "outputs": [
    {
     "data": {
      "text/plain": [
       "(array([1], dtype=int64), array([2], dtype=int64))"
      ]
     },
     "execution_count": 113,
     "metadata": {},
     "output_type": "execute_result"
    }
   ],
   "source": [
    "e = np.where(o==8)         # this is show where 8 is present  it means their index number\n",
    "e"
   ]
  },
  {
   "cell_type": "code",
   "execution_count": 117,
   "id": "9f478b95",
   "metadata": {},
   "outputs": [
    {
     "data": {
      "text/plain": [
       "array([ 1,  2,  3,  4,  5,  6,  7,  8,  9, 10, 11, 12, 13, 14, 15, 16, 17,\n",
       "       18, 19, 20])"
      ]
     },
     "execution_count": 117,
     "metadata": {},
     "output_type": "execute_result"
    }
   ],
   "source": [
    "u = np.array([1,2,3,4,5,6,7,8,9,10,11,12,13,14,15,16,17,18,19,20])\n",
    "u"
   ]
  },
  {
   "cell_type": "code",
   "execution_count": 118,
   "id": "2621f787",
   "metadata": {},
   "outputs": [
    {
     "data": {
      "text/plain": [
       "(array([ 1,  3,  5,  7,  9, 11, 13, 15, 17, 19], dtype=int64),)"
      ]
     },
     "execution_count": 118,
     "metadata": {},
     "output_type": "execute_result"
    }
   ],
   "source": [
    "j = np.where((u%2==0))\n",
    "j"
   ]
  },
  {
   "cell_type": "code",
   "execution_count": 119,
   "id": "6939c53c",
   "metadata": {},
   "outputs": [
    {
     "data": {
      "text/plain": [
       "array([ 1,  2,  3,  4,  6,  7,  8,  9, 11, 12, 13, 14, 16, 17, 18, 19])"
      ]
     },
     "execution_count": 119,
     "metadata": {},
     "output_type": "execute_result"
    }
   ],
   "source": [
    "r = np.array([1,2,3,4,6,7,8,9,11,12,13,14,16,17,18,19])\n",
    "r"
   ]
  },
  {
   "cell_type": "code",
   "execution_count": 120,
   "id": "904251fa",
   "metadata": {},
   "outputs": [
    {
     "data": {
      "text/plain": [
       "4"
      ]
     },
     "execution_count": 120,
     "metadata": {},
     "output_type": "execute_result"
    }
   ],
   "source": [
    "i = np.searchsorted(r,5)\n",
    "i"
   ]
  },
  {
   "cell_type": "code",
   "execution_count": 121,
   "id": "5ca831a4",
   "metadata": {},
   "outputs": [
    {
     "data": {
      "text/plain": [
       "8"
      ]
     },
     "execution_count": 121,
     "metadata": {},
     "output_type": "execute_result"
    }
   ],
   "source": [
    "w = np.searchsorted(r,10)\n",
    "w"
   ]
  },
  {
   "cell_type": "code",
   "execution_count": 122,
   "id": "2024c995",
   "metadata": {},
   "outputs": [
    {
     "data": {
      "text/plain": [
       "12"
      ]
     },
     "execution_count": 122,
     "metadata": {},
     "output_type": "execute_result"
    }
   ],
   "source": [
    "v = np.searchsorted(r,15)\n",
    "v"
   ]
  },
  {
   "cell_type": "code",
   "execution_count": 124,
   "id": "3130c7b4",
   "metadata": {},
   "outputs": [
    {
     "data": {
      "text/plain": [
       "16"
      ]
     },
     "execution_count": 124,
     "metadata": {},
     "output_type": "execute_result"
    }
   ],
   "source": [
    "l = np.searchsorted(r,20)\n",
    "l"
   ]
  },
  {
   "cell_type": "code",
   "execution_count": 125,
   "id": "cc725cd0",
   "metadata": {},
   "outputs": [
    {
     "data": {
      "text/plain": [
       "16"
      ]
     },
     "execution_count": 125,
     "metadata": {},
     "output_type": "execute_result"
    }
   ],
   "source": [
    "p = np.searchsorted(r,50)\n",
    "p"
   ]
  },
  {
   "cell_type": "code",
   "execution_count": 126,
   "id": "821cbbcd",
   "metadata": {},
   "outputs": [
    {
     "data": {
      "text/plain": [
       "array([ 1, 44, 24, 12, 64, 23,  7, 53, 76, 23])"
      ]
     },
     "execution_count": 126,
     "metadata": {},
     "output_type": "execute_result"
    }
   ],
   "source": [
    "h = np.array([1,44,24,12,64,23,7,53,76,23])\n",
    "h"
   ]
  },
  {
   "cell_type": "code",
   "execution_count": 139,
   "id": "f48a0b88",
   "metadata": {},
   "outputs": [
    {
     "data": {
      "text/plain": [
       "7"
      ]
     },
     "execution_count": 139,
     "metadata": {},
     "output_type": "execute_result"
    }
   ],
   "source": [
    "o = np.searchsorted(h,25)\n",
    "o"
   ]
  },
  {
   "cell_type": "code",
   "execution_count": 138,
   "id": "6c86f254",
   "metadata": {
    "scrolled": false
   },
   "outputs": [
    {
     "name": "stdout",
     "output_type": "stream",
     "text": [
      "[ 1  7 12 23 23 24 44 53 64 76]\n"
     ]
    }
   ],
   "source": [
    "print(np.sort(h))"
   ]
  },
  {
   "cell_type": "code",
   "execution_count": 2,
   "id": "56b5ca88",
   "metadata": {},
   "outputs": [
    {
     "name": "stdout",
     "output_type": "stream",
     "text": [
      "3\n"
     ]
    }
   ],
   "source": [
    "var1 = np.array([10,20,30,50,60,70,80])   # this work right to left5\n",
    "x1 = np.searchsorted(var1,40,side='right')\n",
    "print(x1)"
   ]
  },
  {
   "cell_type": "code",
   "execution_count": 4,
   "id": "09768c63",
   "metadata": {},
   "outputs": [
    {
     "name": "stdout",
     "output_type": "stream",
     "text": [
      "3\n"
     ]
    }
   ],
   "source": [
    "var1 = np.array([10,20,30,50,60,70,80])   # this work left to right\n",
    "x1 = np.searchsorted(var1,40,side='left')\n",
    "print(x1)"
   ]
  },
  {
   "cell_type": "markdown",
   "id": "ce8c1af1",
   "metadata": {},
   "source": [
    "# Filter Array"
   ]
  },
  {
   "cell_type": "code",
   "execution_count": 5,
   "id": "f483c193",
   "metadata": {},
   "outputs": [
    {
     "data": {
      "text/plain": [
       "array(['a', 'b', 'c', 's', 'd', 'e', 'o', 'l', 'f'], dtype='<U1')"
      ]
     },
     "execution_count": 5,
     "metadata": {},
     "output_type": "execute_result"
    }
   ],
   "source": [
    "h = np.array([\"a\", \"b\", \"c\", \"s\", \"d\", \"e\", \"o\", \"l\", \"f\"])\n",
    "h"
   ]
  },
  {
   "cell_type": "code",
   "execution_count": 6,
   "id": "31973223",
   "metadata": {},
   "outputs": [
    {
     "name": "stdout",
     "output_type": "stream",
     "text": [
      "['a' 'b' 'c' 'd' 'e' 'f']\n"
     ]
    }
   ],
   "source": [
    "u = [True,True,True,False,True,True,False,False,True]\n",
    "new = h[u]\n",
    "print(new)"
   ]
  },
  {
   "cell_type": "code",
   "execution_count": 8,
   "id": "16d6bba8",
   "metadata": {},
   "outputs": [
    {
     "data": {
      "text/plain": [
       "array([1, 2, 3, 4, 5, 6, 7, 8, 9])"
      ]
     },
     "execution_count": 8,
     "metadata": {},
     "output_type": "execute_result"
    }
   ],
   "source": [
    "num = np.array([1,2,8,9,3,4,8,5,1,6,2,7,3,2,8,1,4,9])\n",
    "correction = [True,True,False,False,True,True,False,True,False,True,False,True,False,False,True,False,False,True]\n",
    "correct = num[correction]\n",
    "correct"
   ]
  },
  {
   "cell_type": "code",
   "execution_count": 9,
   "id": "0478282a",
   "metadata": {},
   "outputs": [
    {
     "data": {
      "text/plain": [
       "array(['1', '2', '3', '4', 'fd', '5', '6', '7', '8'], dtype='<U11')"
      ]
     },
     "execution_count": 9,
     "metadata": {},
     "output_type": "execute_result"
    }
   ],
   "source": [
    "h = np.array([1,2,3,4,\"fd\",5,6,7,8])\n",
    "h"
   ]
  },
  {
   "cell_type": "code",
   "execution_count": 10,
   "id": "1d30cf2f",
   "metadata": {},
   "outputs": [
    {
     "data": {
      "text/plain": [
       "array(['1', '2', '3', '4', '5', '6', '7', '8'], dtype='<U11')"
      ]
     },
     "execution_count": 10,
     "metadata": {},
     "output_type": "execute_result"
    }
   ],
   "source": [
    "o = [True,True,True,True,False,True,True,True,True]\n",
    "u = h[o]\n",
    "u"
   ]
  },
  {
   "cell_type": "markdown",
   "id": "da4ae400",
   "metadata": {},
   "source": [
    "# Shuffle"
   ]
  },
  {
   "cell_type": "code",
   "execution_count": 36,
   "id": "92af8dd9",
   "metadata": {},
   "outputs": [
    {
     "data": {
      "text/plain": [
       "array(['b', 'd', 'h', 'c', 'a', 'e', 'g', 'f'], dtype='<U1')"
      ]
     },
     "execution_count": 36,
     "metadata": {},
     "output_type": "execute_result"
    }
   ],
   "source": [
    "y = np.array([\"a\",\"b\",\"c\",\"d\",\"e\",\"f\",\"g\",\"h\"])\n",
    "np.random.shuffle(y)\n",
    "y"
   ]
  },
  {
   "cell_type": "code",
   "execution_count": 37,
   "id": "b5af5bf4",
   "metadata": {},
   "outputs": [
    {
     "data": {
      "text/plain": [
       "array([7, 8, 1, 9, 4, 5, 2, 6, 3])"
      ]
     },
     "execution_count": 37,
     "metadata": {},
     "output_type": "execute_result"
    }
   ],
   "source": [
    "i = np.array([1,2,3,4,5,6,7,8,9])\n",
    "np.random.shuffle(i)\n",
    "i"
   ]
  },
  {
   "cell_type": "code",
   "execution_count": 39,
   "id": "3f9f6ca7",
   "metadata": {},
   "outputs": [
    {
     "data": {
      "text/plain": [
       "array([0, 1, 2, 3, 4, 5, 6, 7, 8, 9])"
      ]
     },
     "execution_count": 39,
     "metadata": {},
     "output_type": "execute_result"
    }
   ],
   "source": [
    "o = np.array([7,3,8,2,6,2,6,9,7,2,4,6,8,1,4,8,5,0])\n",
    "s = np.unique(o)\n",
    "s"
   ]
  },
  {
   "cell_type": "code",
   "execution_count": 40,
   "id": "a437d88c",
   "metadata": {},
   "outputs": [
    {
     "data": {
      "text/plain": [
       "(array([0, 1, 2, 3, 4, 5, 6, 7, 8, 9]),\n",
       " array([17, 13,  3,  1, 10, 16,  4,  0,  2,  7], dtype=int64))"
      ]
     },
     "execution_count": 40,
     "metadata": {},
     "output_type": "execute_result"
    }
   ],
   "source": [
    "o = np.array([7,3,8,2,6,2,6,9,7,2,4,6,8,1,4,8,5,0])\n",
    "s = np.unique(o,return_index=True)\n",
    "s"
   ]
  },
  {
   "cell_type": "code",
   "execution_count": 41,
   "id": "9ce911c7",
   "metadata": {},
   "outputs": [
    {
     "data": {
      "text/plain": [
       "(array([0, 1, 2, 3, 4, 5, 6, 7, 8, 9]),\n",
       " array([1, 1, 3, 1, 2, 1, 3, 2, 3, 1], dtype=int64))"
      ]
     },
     "execution_count": 41,
     "metadata": {},
     "output_type": "execute_result"
    }
   ],
   "source": [
    "o = np.array([7,3,8,2,6,2,6,9,7,2,4,6,8,1,4,8,5,0])\n",
    "s = np.unique(o,return_counts=True)\n",
    "s"
   ]
  }
 ],
 "metadata": {
  "kernelspec": {
   "display_name": "Python 3 (ipykernel)",
   "language": "python",
   "name": "python3"
  },
  "language_info": {
   "codemirror_mode": {
    "name": "ipython",
    "version": 3
   },
   "file_extension": ".py",
   "mimetype": "text/x-python",
   "name": "python",
   "nbconvert_exporter": "python",
   "pygments_lexer": "ipython3",
   "version": "3.9.12"
  }
 },
 "nbformat": 4,
 "nbformat_minor": 5
}
