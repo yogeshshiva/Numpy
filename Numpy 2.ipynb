{
 "cells": [
  {
   "cell_type": "markdown",
   "id": "fa60c1d8",
   "metadata": {},
   "source": [
    "# Shape and Reshape in Numpy Arrays"
   ]
  },
  {
   "cell_type": "code",
   "execution_count": 2,
   "id": "c25dc658",
   "metadata": {},
   "outputs": [],
   "source": [
    "import numpy as np"
   ]
  },
  {
   "cell_type": "code",
   "execution_count": 6,
   "id": "d5c9c7b0",
   "metadata": {},
   "outputs": [
    {
     "data": {
      "text/plain": [
       "array([1, 2, 3, 4, 5, 6])"
      ]
     },
     "execution_count": 6,
     "metadata": {},
     "output_type": "execute_result"
    }
   ],
   "source": [
    "p = np.array([1,2,3,4,5,6])\n",
    "p"
   ]
  },
  {
   "cell_type": "code",
   "execution_count": 7,
   "id": "c8e2d5f9",
   "metadata": {},
   "outputs": [
    {
     "data": {
      "text/plain": [
       "1"
      ]
     },
     "execution_count": 7,
     "metadata": {},
     "output_type": "execute_result"
    }
   ],
   "source": [
    "p.ndim"
   ]
  },
  {
   "cell_type": "code",
   "execution_count": 8,
   "id": "d01751fc",
   "metadata": {},
   "outputs": [
    {
     "data": {
      "text/plain": [
       "(6,)"
      ]
     },
     "execution_count": 8,
     "metadata": {},
     "output_type": "execute_result"
    }
   ],
   "source": [
    "p.shape"
   ]
  },
  {
   "cell_type": "code",
   "execution_count": 9,
   "id": "0f9b95ff",
   "metadata": {},
   "outputs": [
    {
     "data": {
      "text/plain": [
       "array([[1, 2, 3],\n",
       "       [4, 5, 6]])"
      ]
     },
     "execution_count": 9,
     "metadata": {},
     "output_type": "execute_result"
    }
   ],
   "source": [
    "p.reshape(2,3)"
   ]
  },
  {
   "cell_type": "code",
   "execution_count": 10,
   "id": "18b85e0a",
   "metadata": {},
   "outputs": [
    {
     "data": {
      "text/plain": [
       "1"
      ]
     },
     "execution_count": 10,
     "metadata": {},
     "output_type": "execute_result"
    }
   ],
   "source": [
    "p.ndim"
   ]
  },
  {
   "cell_type": "code",
   "execution_count": 11,
   "id": "dc92d3a1",
   "metadata": {},
   "outputs": [
    {
     "data": {
      "text/plain": [
       "array([ True, False,  True, False])"
      ]
     },
     "execution_count": 11,
     "metadata": {},
     "output_type": "execute_result"
    }
   ],
   "source": [
    "s = np.array([True,False,True,False])\n",
    "s"
   ]
  },
  {
   "cell_type": "code",
   "execution_count": 12,
   "id": "96a1662f",
   "metadata": {},
   "outputs": [
    {
     "data": {
      "text/plain": [
       "(4,)"
      ]
     },
     "execution_count": 12,
     "metadata": {},
     "output_type": "execute_result"
    }
   ],
   "source": [
    "s.shape"
   ]
  },
  {
   "cell_type": "code",
   "execution_count": 13,
   "id": "1ed1cd32",
   "metadata": {},
   "outputs": [
    {
     "data": {
      "text/plain": [
       "array([[ True, False],\n",
       "       [ True, False]])"
      ]
     },
     "execution_count": 13,
     "metadata": {},
     "output_type": "execute_result"
    }
   ],
   "source": [
    "s.reshape(2,2)"
   ]
  },
  {
   "cell_type": "code",
   "execution_count": 15,
   "id": "b70d1dce",
   "metadata": {},
   "outputs": [
    {
     "data": {
      "text/plain": [
       "array([12.3 , 34.65,  1.4 ,  3.65, 98.5 ,  6.43])"
      ]
     },
     "execution_count": 15,
     "metadata": {},
     "output_type": "execute_result"
    }
   ],
   "source": [
    "h = np.array([12.3,34.65,1.4,3.65,98.5,6.43])\n",
    "h"
   ]
  },
  {
   "cell_type": "code",
   "execution_count": 16,
   "id": "c3c2d06f",
   "metadata": {},
   "outputs": [
    {
     "data": {
      "text/plain": [
       "array([[12.3 , 34.65],\n",
       "       [ 1.4 ,  3.65],\n",
       "       [98.5 ,  6.43]])"
      ]
     },
     "execution_count": 16,
     "metadata": {},
     "output_type": "execute_result"
    }
   ],
   "source": [
    "h.reshape(3,2)"
   ]
  },
  {
   "cell_type": "code",
   "execution_count": 20,
   "id": "9682e982",
   "metadata": {},
   "outputs": [
    {
     "data": {
      "text/plain": [
       "array([ 5. +8.j,  7. +8.j, 23.+54.j,  8.+65.j])"
      ]
     },
     "execution_count": 20,
     "metadata": {},
     "output_type": "execute_result"
    }
   ],
   "source": [
    "r = np.array([5+8j,7+8j,23+54j,8+65j])\n",
    "r"
   ]
  },
  {
   "cell_type": "code",
   "execution_count": 21,
   "id": "cd2dfa11",
   "metadata": {},
   "outputs": [
    {
     "data": {
      "text/plain": [
       "array([[ 5. +8.j,  7. +8.j],\n",
       "       [23.+54.j,  8.+65.j]])"
      ]
     },
     "execution_count": 21,
     "metadata": {},
     "output_type": "execute_result"
    }
   ],
   "source": [
    "r.reshape(2,2)"
   ]
  },
  {
   "cell_type": "code",
   "execution_count": 22,
   "id": "55e2378b",
   "metadata": {},
   "outputs": [
    {
     "data": {
      "text/plain": [
       "array([[12, 32, 54, 66, 54, 87, 43, 56,  9, 32, 45, 22]])"
      ]
     },
     "execution_count": 22,
     "metadata": {},
     "output_type": "execute_result"
    }
   ],
   "source": [
    "y = np.array([[12,32,54,66,54,87,43,56,9,32,45,22]])\n",
    "y"
   ]
  },
  {
   "cell_type": "code",
   "execution_count": 23,
   "id": "446b83ce",
   "metadata": {},
   "outputs": [
    {
     "data": {
      "text/plain": [
       "2"
      ]
     },
     "execution_count": 23,
     "metadata": {},
     "output_type": "execute_result"
    }
   ],
   "source": [
    "y.ndim"
   ]
  },
  {
   "cell_type": "code",
   "execution_count": 24,
   "id": "583a06ac",
   "metadata": {},
   "outputs": [
    {
     "data": {
      "text/plain": [
       "array([[12, 32, 54, 66],\n",
       "       [54, 87, 43, 56],\n",
       "       [ 9, 32, 45, 22]])"
      ]
     },
     "execution_count": 24,
     "metadata": {},
     "output_type": "execute_result"
    }
   ],
   "source": [
    "y.reshape(3,4)"
   ]
  },
  {
   "cell_type": "code",
   "execution_count": 25,
   "id": "ea5120ed",
   "metadata": {},
   "outputs": [
    {
     "data": {
      "text/plain": [
       "array([[[12, 32, 54],\n",
       "        [66, 54, 87]],\n",
       "\n",
       "       [[43, 56,  9],\n",
       "        [32, 45, 22]]])"
      ]
     },
     "execution_count": 25,
     "metadata": {},
     "output_type": "execute_result"
    }
   ],
   "source": [
    "y.reshape(2,2,3)"
   ]
  },
  {
   "cell_type": "markdown",
   "id": "54d2cdb6",
   "metadata": {},
   "source": [
    "Convert 3-D into 1-D"
   ]
  },
  {
   "cell_type": "code",
   "execution_count": 26,
   "id": "d79599e4",
   "metadata": {},
   "outputs": [
    {
     "data": {
      "text/plain": [
       "array([[[23, 43, 54, 65, 78, 32, 45, 65, 12, 65, 32, 57]]])"
      ]
     },
     "execution_count": 26,
     "metadata": {},
     "output_type": "execute_result"
    }
   ],
   "source": [
    "t = np.array([[[23,43,54,65,78,32,45,65,12,65,32,57]]])        # 3-D\n",
    "t"
   ]
  },
  {
   "cell_type": "code",
   "execution_count": 27,
   "id": "a11ead92",
   "metadata": {},
   "outputs": [
    {
     "data": {
      "text/plain": [
       "3"
      ]
     },
     "execution_count": 27,
     "metadata": {},
     "output_type": "execute_result"
    }
   ],
   "source": [
    "t.ndim"
   ]
  },
  {
   "cell_type": "code",
   "execution_count": 28,
   "id": "611bc05d",
   "metadata": {},
   "outputs": [
    {
     "data": {
      "text/plain": [
       "array([23, 43, 54, 65, 78, 32, 45, 65, 12, 65, 32, 57])"
      ]
     },
     "execution_count": 28,
     "metadata": {},
     "output_type": "execute_result"
    }
   ],
   "source": [
    "t.reshape(-1)                     # 1-D"
   ]
  },
  {
   "cell_type": "markdown",
   "id": "2f5977b6",
   "metadata": {},
   "source": [
    "# Arithmetic Operation in Numpy Arrays"
   ]
  },
  {
   "cell_type": "markdown",
   "id": "766f974b",
   "metadata": {},
   "source": [
    "np.min(x)                                                                                                                                  \n",
    "np.max(x)                                                                                \n",
    "np.argmin(x)                                                                                          \n",
    "np.sqrt(x)                                                                                      \n",
    "np.sin(x)                                                                                    \n",
    "np.cos(x)                                                                                            \n",
    "np.cumsum(x)                                                                                  "
   ]
  },
  {
   "cell_type": "code",
   "execution_count": 31,
   "id": "bcf8542b",
   "metadata": {},
   "outputs": [
    {
     "data": {
      "text/plain": [
       "array([75, 54, 98, 43, 12, 54, 36, 87, 54, 35, 65, 45])"
      ]
     },
     "execution_count": 31,
     "metadata": {},
     "output_type": "execute_result"
    }
   ],
   "source": [
    "i = np.array([75,54,98,43,12,54,36,87,54,35,65,45])\n",
    "i"
   ]
  },
  {
   "cell_type": "code",
   "execution_count": 33,
   "id": "00abeb17",
   "metadata": {},
   "outputs": [
    {
     "data": {
      "text/plain": [
       "array([[75, 54, 98, 43],\n",
       "       [12, 54, 36, 87],\n",
       "       [54, 35, 65, 45]])"
      ]
     },
     "execution_count": 33,
     "metadata": {},
     "output_type": "execute_result"
    }
   ],
   "source": [
    "i.reshape(3,4)"
   ]
  },
  {
   "cell_type": "code",
   "execution_count": 34,
   "id": "733d6de3",
   "metadata": {},
   "outputs": [
    {
     "data": {
      "text/plain": [
       "12"
      ]
     },
     "execution_count": 34,
     "metadata": {},
     "output_type": "execute_result"
    }
   ],
   "source": [
    "np.min(i)"
   ]
  },
  {
   "cell_type": "code",
   "execution_count": 35,
   "id": "b8c43e9b",
   "metadata": {},
   "outputs": [
    {
     "data": {
      "text/plain": [
       "98"
      ]
     },
     "execution_count": 35,
     "metadata": {},
     "output_type": "execute_result"
    }
   ],
   "source": [
    "np.max(i)"
   ]
  },
  {
   "cell_type": "code",
   "execution_count": 36,
   "id": "9d66e3f2",
   "metadata": {},
   "outputs": [
    {
     "data": {
      "text/plain": [
       "4"
      ]
     },
     "execution_count": 36,
     "metadata": {},
     "output_type": "execute_result"
    }
   ],
   "source": [
    "np.argmin(i)     # find index value"
   ]
  },
  {
   "cell_type": "code",
   "execution_count": 37,
   "id": "8fae45c5",
   "metadata": {},
   "outputs": [
    {
     "data": {
      "text/plain": [
       "2"
      ]
     },
     "execution_count": 37,
     "metadata": {},
     "output_type": "execute_result"
    }
   ],
   "source": [
    "np.argmax(i)"
   ]
  },
  {
   "cell_type": "code",
   "execution_count": 38,
   "id": "4848af47",
   "metadata": {},
   "outputs": [
    {
     "data": {
      "text/plain": [
       "array([144,  64,  81, 100])"
      ]
     },
     "execution_count": 38,
     "metadata": {},
     "output_type": "execute_result"
    }
   ],
   "source": [
    "o = np.array([144,64,81,100])\n",
    "o"
   ]
  },
  {
   "cell_type": "code",
   "execution_count": 39,
   "id": "90f2d93a",
   "metadata": {},
   "outputs": [
    {
     "data": {
      "text/plain": [
       "array([12.,  8.,  9., 10.])"
      ]
     },
     "execution_count": 39,
     "metadata": {},
     "output_type": "execute_result"
    }
   ],
   "source": [
    "np.sqrt(o)"
   ]
  },
  {
   "cell_type": "code",
   "execution_count": 40,
   "id": "6c384545",
   "metadata": {},
   "outputs": [
    {
     "data": {
      "text/plain": [
       "array([0.8711474 , 0.39185723, 0.77668598, 0.86231887])"
      ]
     },
     "execution_count": 40,
     "metadata": {},
     "output_type": "execute_result"
    }
   ],
   "source": [
    "np.cos(o)"
   ]
  },
  {
   "cell_type": "code",
   "execution_count": 41,
   "id": "2b9d6f02",
   "metadata": {},
   "outputs": [
    {
     "data": {
      "text/plain": [
       "array([-0.49102159,  0.92002604, -0.62988799, -0.50636564])"
      ]
     },
     "execution_count": 41,
     "metadata": {},
     "output_type": "execute_result"
    }
   ],
   "source": [
    "np.sin(o)"
   ]
  },
  {
   "cell_type": "code",
   "execution_count": 42,
   "id": "a558b489",
   "metadata": {},
   "outputs": [
    {
     "data": {
      "text/plain": [
       "array([1, 2, 3, 4])"
      ]
     },
     "execution_count": 42,
     "metadata": {},
     "output_type": "execute_result"
    }
   ],
   "source": [
    "e = np.array([1,2,3,4])\n",
    "e"
   ]
  },
  {
   "cell_type": "code",
   "execution_count": 43,
   "id": "cc522b77",
   "metadata": {},
   "outputs": [
    {
     "data": {
      "text/plain": [
       "array([ 1,  3,  6, 10], dtype=int32)"
      ]
     },
     "execution_count": 43,
     "metadata": {},
     "output_type": "execute_result"
    }
   ],
   "source": [
    "np.cumsum(e)"
   ]
  },
  {
   "cell_type": "markdown",
   "id": "8edb849b",
   "metadata": {},
   "source": [
    "Their are two types of axis:-                                                                                      \n",
    "    1) axis = 0   (work along column)                                             \n",
    "    2) axis = 1   (work along row)"
   ]
  },
  {
   "cell_type": "code",
   "execution_count": 46,
   "id": "016df5b3",
   "metadata": {},
   "outputs": [
    {
     "data": {
      "text/plain": [
       "array([[2, 7, 4],\n",
       "       [6, 3, 8]])"
      ]
     },
     "execution_count": 46,
     "metadata": {},
     "output_type": "execute_result"
    }
   ],
   "source": [
    "u = np.array([[2,7,4],[6,3,8]])\n",
    "u"
   ]
  },
  {
   "cell_type": "code",
   "execution_count": 47,
   "id": "dd33b14b",
   "metadata": {},
   "outputs": [
    {
     "data": {
      "text/plain": [
       "array([2, 3, 4])"
      ]
     },
     "execution_count": 47,
     "metadata": {},
     "output_type": "execute_result"
    }
   ],
   "source": [
    "np.min(u,axis=0)"
   ]
  },
  {
   "cell_type": "code",
   "execution_count": 48,
   "id": "5269469d",
   "metadata": {},
   "outputs": [
    {
     "data": {
      "text/plain": [
       "array([7, 8])"
      ]
     },
     "execution_count": 48,
     "metadata": {},
     "output_type": "execute_result"
    }
   ],
   "source": [
    "np.max(u,axis=1)"
   ]
  },
  {
   "cell_type": "code",
   "execution_count": 61,
   "id": "0eb75afe",
   "metadata": {},
   "outputs": [
    {
     "data": {
      "text/plain": [
       "array([[[1, 2, 3],\n",
       "        [4, 5, 6],\n",
       "        [7, 8, 9]]])"
      ]
     },
     "execution_count": 61,
     "metadata": {},
     "output_type": "execute_result"
    }
   ],
   "source": [
    "x = np.array([[[1,2,3],[4,5,6],[7,8,9]]])\n",
    "x"
   ]
  },
  {
   "cell_type": "code",
   "execution_count": 65,
   "id": "8472843e",
   "metadata": {},
   "outputs": [
    {
     "data": {
      "text/plain": [
       "array([[1, 2, 3]])"
      ]
     },
     "execution_count": 65,
     "metadata": {},
     "output_type": "execute_result"
    }
   ],
   "source": [
    "np.min(x,axis=1)"
   ]
  },
  {
   "cell_type": "code",
   "execution_count": 66,
   "id": "055c0382",
   "metadata": {},
   "outputs": [
    {
     "data": {
      "text/plain": [
       "array([[7, 8, 9]])"
      ]
     },
     "execution_count": 66,
     "metadata": {},
     "output_type": "execute_result"
    }
   ],
   "source": [
    "np.max(x,axis=1)"
   ]
  },
  {
   "cell_type": "markdown",
   "id": "0fc79320",
   "metadata": {},
   "source": [
    "# Broadcasting Numpy Arrays"
   ]
  },
  {
   "cell_type": "code",
   "execution_count": 1,
   "id": "ff317b09",
   "metadata": {},
   "outputs": [],
   "source": [
    "import numpy as np"
   ]
  },
  {
   "cell_type": "code",
   "execution_count": 3,
   "id": "1b3c2742",
   "metadata": {},
   "outputs": [
    {
     "data": {
      "text/plain": [
       "array([ 5,  7,  9, 11])"
      ]
     },
     "execution_count": 3,
     "metadata": {},
     "output_type": "execute_result"
    }
   ],
   "source": [
    "y = np.array([1,2,3,4])\n",
    "x = np.array([4,5,6,7])\n",
    "y+x"
   ]
  },
  {
   "cell_type": "code",
   "execution_count": 7,
   "id": "8154ac01",
   "metadata": {},
   "outputs": [
    {
     "data": {
      "text/plain": [
       "array([2, 4, 7])"
      ]
     },
     "execution_count": 7,
     "metadata": {},
     "output_type": "execute_result"
    }
   ],
   "source": [
    "j = np.array([1,2,4])\n",
    "k = np.array([1,2,3])\n",
    "j+k"
   ]
  },
  {
   "cell_type": "code",
   "execution_count": 8,
   "id": "de056167",
   "metadata": {},
   "outputs": [
    {
     "data": {
      "text/plain": [
       "array([ 1.,  2.,  3.,  4., nan,  6.,  7., nan,  9., 10., nan, 12., 13.,\n",
       "       14., 15., nan, 17., 18., nan, 20.])"
      ]
     },
     "execution_count": 8,
     "metadata": {},
     "output_type": "execute_result"
    }
   ],
   "source": [
    "l = np.array([1,2,3,4,np.nan,6,7,np.nan,9,10,np.nan,12,13,14,15,np.nan,17,18,np.nan,20])\n",
    "l"
   ]
  },
  {
   "cell_type": "code",
   "execution_count": 9,
   "id": "9ca18333",
   "metadata": {},
   "outputs": [
    {
     "data": {
      "text/plain": [
       "array([[ 1.,  2.,  3.,  4., nan],\n",
       "       [ 6.,  7., nan,  9., 10.],\n",
       "       [nan, 12., 13., 14., 15.],\n",
       "       [nan, 17., 18., nan, 20.]])"
      ]
     },
     "execution_count": 9,
     "metadata": {},
     "output_type": "execute_result"
    }
   ],
   "source": [
    "l.reshape(4,5)"
   ]
  },
  {
   "cell_type": "code",
   "execution_count": 12,
   "id": "de5bc451",
   "metadata": {},
   "outputs": [
    {
     "data": {
      "text/plain": [
       "array([ 3.,  4.,  5.,  6., nan,  8.,  9., nan, 11., 12., nan, 14., 15.,\n",
       "       16., 17., nan, 19., 20., nan, 22.])"
      ]
     },
     "execution_count": 12,
     "metadata": {},
     "output_type": "execute_result"
    }
   ],
   "source": [
    "u = np.array([2])\n",
    "s = l+u\n",
    "s"
   ]
  },
  {
   "cell_type": "code",
   "execution_count": 13,
   "id": "2bd93809",
   "metadata": {},
   "outputs": [
    {
     "data": {
      "text/plain": [
       "array([[ 3.,  4.,  5.,  6., nan],\n",
       "       [ 8.,  9., nan, 11., 12.],\n",
       "       [nan, 14., 15., 16., 17.],\n",
       "       [nan, 19., 20., nan, 22.]])"
      ]
     },
     "execution_count": 13,
     "metadata": {},
     "output_type": "execute_result"
    }
   ],
   "source": [
    "s.reshape(4,5)"
   ]
  },
  {
   "cell_type": "code",
   "execution_count": 14,
   "id": "c68496ec",
   "metadata": {},
   "outputs": [
    {
     "data": {
      "text/plain": [
       "array([1, 2, 3])"
      ]
     },
     "execution_count": 14,
     "metadata": {},
     "output_type": "execute_result"
    }
   ],
   "source": [
    "x = np.array([1,2,3])\n",
    "x"
   ]
  },
  {
   "cell_type": "code",
   "execution_count": 16,
   "id": "8ee5af04",
   "metadata": {},
   "outputs": [
    {
     "data": {
      "text/plain": [
       "array([[1],\n",
       "       [2],\n",
       "       [3]])"
      ]
     },
     "execution_count": 16,
     "metadata": {},
     "output_type": "execute_result"
    }
   ],
   "source": [
    "y = np.array([[1],[2],[3]])\n",
    "y"
   ]
  },
  {
   "cell_type": "code",
   "execution_count": 17,
   "id": "d5bdf6a1",
   "metadata": {},
   "outputs": [
    {
     "data": {
      "text/plain": [
       "array([[2, 3, 4],\n",
       "       [3, 4, 5],\n",
       "       [4, 5, 6]])"
      ]
     },
     "execution_count": 17,
     "metadata": {},
     "output_type": "execute_result"
    }
   ],
   "source": [
    "x+y"
   ]
  },
  {
   "cell_type": "code",
   "execution_count": 18,
   "id": "ce7d26ba",
   "metadata": {},
   "outputs": [
    {
     "data": {
      "text/plain": [
       "array([[1, 2, 3],\n",
       "       [2, 4, 6],\n",
       "       [3, 6, 9]])"
      ]
     },
     "execution_count": 18,
     "metadata": {},
     "output_type": "execute_result"
    }
   ],
   "source": [
    "x*y"
   ]
  },
  {
   "cell_type": "markdown",
   "id": "d59a9183",
   "metadata": {},
   "source": [
    "# Indexing Numpy Arrays"
   ]
  },
  {
   "cell_type": "code",
   "execution_count": 1,
   "id": "4a9e059b",
   "metadata": {},
   "outputs": [],
   "source": [
    "import numpy as np"
   ]
  },
  {
   "cell_type": "code",
   "execution_count": 2,
   "id": "0c69581b",
   "metadata": {},
   "outputs": [
    {
     "data": {
      "text/plain": [
       "array([22, 33, 44, 55, 66, 77, 88, 99])"
      ]
     },
     "execution_count": 2,
     "metadata": {},
     "output_type": "execute_result"
    }
   ],
   "source": [
    "j = np.array([22,33,44,55,66,77,88,99])\n",
    "j"
   ]
  },
  {
   "cell_type": "code",
   "execution_count": 3,
   "id": "778dce35",
   "metadata": {},
   "outputs": [
    {
     "data": {
      "text/plain": [
       "55"
      ]
     },
     "execution_count": 3,
     "metadata": {},
     "output_type": "execute_result"
    }
   ],
   "source": [
    "j[3]"
   ]
  },
  {
   "cell_type": "code",
   "execution_count": 4,
   "id": "de07c479",
   "metadata": {},
   "outputs": [
    {
     "data": {
      "text/plain": [
       "77"
      ]
     },
     "execution_count": 4,
     "metadata": {},
     "output_type": "execute_result"
    }
   ],
   "source": [
    "j[-3]"
   ]
  },
  {
   "cell_type": "code",
   "execution_count": 5,
   "id": "fac81d24",
   "metadata": {},
   "outputs": [
    {
     "data": {
      "text/plain": [
       "array([[5, 6, 7],\n",
       "       [8, 4, 9]])"
      ]
     },
     "execution_count": 5,
     "metadata": {},
     "output_type": "execute_result"
    }
   ],
   "source": [
    "k = np.array([[5,6,7],[8,4,9]])\n",
    "k"
   ]
  },
  {
   "cell_type": "code",
   "execution_count": 10,
   "id": "594230ce",
   "metadata": {},
   "outputs": [
    {
     "data": {
      "text/plain": [
       "array([8, 4, 9])"
      ]
     },
     "execution_count": 10,
     "metadata": {},
     "output_type": "execute_result"
    }
   ],
   "source": [
    "k[1]"
   ]
  },
  {
   "cell_type": "code",
   "execution_count": 11,
   "id": "ea5fec7c",
   "metadata": {},
   "outputs": [
    {
     "data": {
      "text/plain": [
       "array([5, 6, 7])"
      ]
     },
     "execution_count": 11,
     "metadata": {},
     "output_type": "execute_result"
    }
   ],
   "source": [
    "k[0]"
   ]
  },
  {
   "cell_type": "code",
   "execution_count": 12,
   "id": "f2773246",
   "metadata": {},
   "outputs": [
    {
     "data": {
      "text/plain": [
       "6"
      ]
     },
     "execution_count": 12,
     "metadata": {},
     "output_type": "execute_result"
    }
   ],
   "source": [
    "k[0,1]"
   ]
  },
  {
   "cell_type": "code",
   "execution_count": 13,
   "id": "a8d58089",
   "metadata": {},
   "outputs": [
    {
     "data": {
      "text/plain": [
       "9"
      ]
     },
     "execution_count": 13,
     "metadata": {},
     "output_type": "execute_result"
    }
   ],
   "source": [
    "k[1,2]"
   ]
  },
  {
   "cell_type": "code",
   "execution_count": 14,
   "id": "8ad25837",
   "metadata": {},
   "outputs": [
    {
     "data": {
      "text/plain": [
       "array([[[4, 3, 5],\n",
       "        [7, 6, 5],\n",
       "        [9, 2, 5]]])"
      ]
     },
     "execution_count": 14,
     "metadata": {},
     "output_type": "execute_result"
    }
   ],
   "source": [
    "l = np.array([[[4,3,5],[7,6,5],[9,2,5]]])\n",
    "l"
   ]
  },
  {
   "cell_type": "code",
   "execution_count": 16,
   "id": "c7f9c378",
   "metadata": {},
   "outputs": [
    {
     "data": {
      "text/plain": [
       "6"
      ]
     },
     "execution_count": 16,
     "metadata": {},
     "output_type": "execute_result"
    }
   ],
   "source": [
    "l[0,1,1]"
   ]
  },
  {
   "cell_type": "code",
   "execution_count": 17,
   "id": "024a8d30",
   "metadata": {},
   "outputs": [
    {
     "data": {
      "text/plain": [
       "2"
      ]
     },
     "execution_count": 17,
     "metadata": {},
     "output_type": "execute_result"
    }
   ],
   "source": [
    "l[0,2,1]"
   ]
  },
  {
   "cell_type": "code",
   "execution_count": 18,
   "id": "ea8d078a",
   "metadata": {},
   "outputs": [
    {
     "data": {
      "text/plain": [
       "array([[[[[34, 54, 65],\n",
       "          [76, 45, 23],\n",
       "          [98, 77, 34]]]]])"
      ]
     },
     "execution_count": 18,
     "metadata": {},
     "output_type": "execute_result"
    }
   ],
   "source": [
    "q = np.array([[[[[34,54,65],[76,45,23],[98,77,34]]]]])\n",
    "q"
   ]
  },
  {
   "cell_type": "code",
   "execution_count": 19,
   "id": "fffa6d6e",
   "metadata": {},
   "outputs": [
    {
     "data": {
      "text/plain": [
       "5"
      ]
     },
     "execution_count": 19,
     "metadata": {},
     "output_type": "execute_result"
    }
   ],
   "source": [
    "q.ndim"
   ]
  },
  {
   "cell_type": "code",
   "execution_count": 20,
   "id": "4ea9ffde",
   "metadata": {},
   "outputs": [
    {
     "data": {
      "text/plain": [
       "23"
      ]
     },
     "execution_count": 20,
     "metadata": {},
     "output_type": "execute_result"
    }
   ],
   "source": [
    "q[0,0,0,1,2]"
   ]
  },
  {
   "cell_type": "markdown",
   "id": "b2e4704d",
   "metadata": {},
   "source": [
    "# Slicing Numpy Arrays"
   ]
  },
  {
   "cell_type": "code",
   "execution_count": 21,
   "id": "c046ca77",
   "metadata": {},
   "outputs": [
    {
     "data": {
      "text/plain": [
       "array([10, 20, 30, 40, 50, 60, 70, 80, 90])"
      ]
     },
     "execution_count": 21,
     "metadata": {},
     "output_type": "execute_result"
    }
   ],
   "source": [
    "i = np.array([10,20,30,40,50,60,70,80,90])\n",
    "i"
   ]
  },
  {
   "cell_type": "code",
   "execution_count": 24,
   "id": "3af79f95",
   "metadata": {},
   "outputs": [
    {
     "data": {
      "text/plain": [
       "array([30, 40, 50, 60, 70])"
      ]
     },
     "execution_count": 24,
     "metadata": {},
     "output_type": "execute_result"
    }
   ],
   "source": [
    "i[2:7]"
   ]
  },
  {
   "cell_type": "code",
   "execution_count": 26,
   "id": "08fcb3dd",
   "metadata": {},
   "outputs": [
    {
     "data": {
      "text/plain": [
       "array([40, 50, 60, 70])"
      ]
     },
     "execution_count": 26,
     "metadata": {},
     "output_type": "execute_result"
    }
   ],
   "source": [
    "i[-6:-2]"
   ]
  },
  {
   "cell_type": "code",
   "execution_count": 29,
   "id": "b5d2783c",
   "metadata": {},
   "outputs": [
    {
     "data": {
      "text/plain": [
       "array([[10, 20, 30],\n",
       "       [30, 40, 50]])"
      ]
     },
     "execution_count": 29,
     "metadata": {},
     "output_type": "execute_result"
    }
   ],
   "source": [
    "D = np.array([[10,20,30],[30,40,50]])\n",
    "D"
   ]
  },
  {
   "cell_type": "code",
   "execution_count": 31,
   "id": "4e54c7d0",
   "metadata": {},
   "outputs": [
    {
     "data": {
      "text/plain": [
       "array([40, 50])"
      ]
     },
     "execution_count": 31,
     "metadata": {},
     "output_type": "execute_result"
    }
   ],
   "source": [
    "D[1,1:3]"
   ]
  },
  {
   "cell_type": "code",
   "execution_count": 32,
   "id": "b8505840",
   "metadata": {},
   "outputs": [
    {
     "data": {
      "text/plain": [
       "array([[[23, 34, 45],\n",
       "        [56, 67, 78],\n",
       "        [89, 90, 97]]])"
      ]
     },
     "execution_count": 32,
     "metadata": {},
     "output_type": "execute_result"
    }
   ],
   "source": [
    "t = np.array([[[23,34,45],[56,67,78],[89,90,97]]])\n",
    "t"
   ]
  },
  {
   "cell_type": "code",
   "execution_count": 37,
   "id": "a6f07e7f",
   "metadata": {},
   "outputs": [
    {
     "data": {
      "text/plain": [
       "array([[56, 67],\n",
       "       [89, 90]])"
      ]
     },
     "execution_count": 37,
     "metadata": {},
     "output_type": "execute_result"
    }
   ],
   "source": [
    "t[0,1:3,0:2]"
   ]
  },
  {
   "cell_type": "code",
   "execution_count": 38,
   "id": "d8a50535",
   "metadata": {},
   "outputs": [
    {
     "data": {
      "text/plain": [
       "array([[67, 78],\n",
       "       [90, 97]])"
      ]
     },
     "execution_count": 38,
     "metadata": {},
     "output_type": "execute_result"
    }
   ],
   "source": [
    "t[0,1:3,1:3]"
   ]
  },
  {
   "cell_type": "code",
   "execution_count": 39,
   "id": "f9856968",
   "metadata": {},
   "outputs": [
    {
     "data": {
      "text/plain": [
       "array([[[[[ 1,  2,  3,  4,  5],\n",
       "          [10, 20, 30, 40, 50],\n",
       "          [ 5,  6,  7,  8,  9],\n",
       "          [15, 16, 17, 18, 19],\n",
       "          [50, 11, 60, 12, 70]]]]])"
      ]
     },
     "execution_count": 39,
     "metadata": {},
     "output_type": "execute_result"
    }
   ],
   "source": [
    "u = np.array([[[[[1,2,3,4,5],[10,20,30,40,50],[5,6,7,8,9],[15,16,17,18,19],[50,11,60,12,70]]]]])\n",
    "u"
   ]
  },
  {
   "cell_type": "code",
   "execution_count": 40,
   "id": "183cb3c8",
   "metadata": {},
   "outputs": [
    {
     "data": {
      "text/plain": [
       "array([[ 6,  7,  8],\n",
       "       [16, 17, 18],\n",
       "       [11, 60, 12]])"
      ]
     },
     "execution_count": 40,
     "metadata": {},
     "output_type": "execute_result"
    }
   ],
   "source": [
    "u[0,0,0,2:5,1:4]"
   ]
  },
  {
   "cell_type": "code",
   "execution_count": 41,
   "id": "6b2e7556",
   "metadata": {},
   "outputs": [
    {
     "data": {
      "text/plain": [
       "array([[ 3,  4,  5],\n",
       "       [30, 40, 50],\n",
       "       [ 7,  8,  9]])"
      ]
     },
     "execution_count": 41,
     "metadata": {},
     "output_type": "execute_result"
    }
   ],
   "source": [
    "u[0,0,0,0:3,2:5]"
   ]
  },
  {
   "cell_type": "code",
   "execution_count": 42,
   "id": "a68f67ce",
   "metadata": {},
   "outputs": [
    {
     "data": {
      "text/plain": [
       "17"
      ]
     },
     "execution_count": 42,
     "metadata": {},
     "output_type": "execute_result"
    }
   ],
   "source": [
    "u[0,0,0,3,2]"
   ]
  },
  {
   "cell_type": "code",
   "execution_count": 44,
   "id": "d8a86b70",
   "metadata": {},
   "outputs": [
    {
     "data": {
      "text/plain": [
       "array([11, 60, 12, 70])"
      ]
     },
     "execution_count": 44,
     "metadata": {},
     "output_type": "execute_result"
    }
   ],
   "source": [
    "u[0,0,0,4,1:]"
   ]
  },
  {
   "cell_type": "markdown",
   "id": "bc87d07f",
   "metadata": {},
   "source": [
    "# Iterating Numpy Arrays"
   ]
  },
  {
   "cell_type": "code",
   "execution_count": 45,
   "id": "6207e866",
   "metadata": {},
   "outputs": [
    {
     "data": {
      "text/plain": [
       "array([1, 2, 3, 4, 5, 6, 7, 8, 9])"
      ]
     },
     "execution_count": 45,
     "metadata": {},
     "output_type": "execute_result"
    }
   ],
   "source": [
    "u = np.array([1,2,3,4,5,6,7,8,9])\n",
    "u"
   ]
  },
  {
   "cell_type": "code",
   "execution_count": 46,
   "id": "9c4f4ce8",
   "metadata": {},
   "outputs": [
    {
     "name": "stdout",
     "output_type": "stream",
     "text": [
      "1\n",
      "2\n",
      "3\n",
      "4\n",
      "5\n",
      "6\n",
      "7\n",
      "8\n",
      "9\n"
     ]
    }
   ],
   "source": [
    "for i in u:\n",
    "    print(i)"
   ]
  },
  {
   "cell_type": "code",
   "execution_count": 47,
   "id": "9b5f18db",
   "metadata": {},
   "outputs": [
    {
     "data": {
      "text/plain": [
       "array([[1, 2, 3, 4],\n",
       "       [5, 6, 7, 8]])"
      ]
     },
     "execution_count": 47,
     "metadata": {},
     "output_type": "execute_result"
    }
   ],
   "source": [
    "x = np.array([[1,2,3,4],[5,6,7,8]])\n",
    "x"
   ]
  },
  {
   "cell_type": "code",
   "execution_count": 48,
   "id": "48293585",
   "metadata": {},
   "outputs": [
    {
     "name": "stdout",
     "output_type": "stream",
     "text": [
      "1\n",
      "2\n",
      "3\n",
      "4\n",
      "5\n",
      "6\n",
      "7\n",
      "8\n"
     ]
    }
   ],
   "source": [
    "for i in x:\n",
    "    for k in i:\n",
    "        print(k)"
   ]
  },
  {
   "cell_type": "code",
   "execution_count": 50,
   "id": "61eaa4ef",
   "metadata": {},
   "outputs": [
    {
     "data": {
      "text/plain": [
       "array([[[1, 2, 3, 4],\n",
       "        [5, 6, 7, 8],\n",
       "        [9, 6, 3, 2]]])"
      ]
     },
     "execution_count": 50,
     "metadata": {},
     "output_type": "execute_result"
    }
   ],
   "source": [
    "j = np.array([[[1,2,3,4],[5,6,7,8],[9,6,3,2]]])\n",
    "j"
   ]
  },
  {
   "cell_type": "code",
   "execution_count": 51,
   "id": "bcb48f5f",
   "metadata": {},
   "outputs": [
    {
     "name": "stdout",
     "output_type": "stream",
     "text": [
      "1\n",
      "2\n",
      "3\n",
      "4\n",
      "5\n",
      "6\n",
      "7\n",
      "8\n",
      "9\n",
      "6\n",
      "3\n",
      "2\n"
     ]
    }
   ],
   "source": [
    "for i in j:\n",
    "    for k in i:\n",
    "        for s in k:\n",
    "            print(s)"
   ]
  },
  {
   "cell_type": "code",
   "execution_count": 52,
   "id": "1185a335",
   "metadata": {},
   "outputs": [
    {
     "data": {
      "text/plain": [
       "array([[[[[1, 2, 3],\n",
       "          [4, 5, 6],\n",
       "          [7, 8, 9]]]]])"
      ]
     },
     "execution_count": 52,
     "metadata": {},
     "output_type": "execute_result"
    }
   ],
   "source": [
    "u = np.array([[[[[1,2,3],[4,5,6],[7,8,9]]]]])\n",
    "u"
   ]
  },
  {
   "cell_type": "code",
   "execution_count": 54,
   "id": "089dfbc8",
   "metadata": {},
   "outputs": [
    {
     "name": "stdout",
     "output_type": "stream",
     "text": [
      "1\n",
      "2\n",
      "3\n",
      "4\n",
      "5\n",
      "6\n",
      "7\n",
      "8\n",
      "9\n"
     ]
    }
   ],
   "source": [
    "for i in u:\n",
    "    for k in i:\n",
    "        for s in k:\n",
    "            for w in s:\n",
    "                for r in w:\n",
    "                    print(r)"
   ]
  },
  {
   "cell_type": "markdown",
   "id": "f49b610b",
   "metadata": {},
   "source": [
    "Second method is:- we can use nditer(variable)"
   ]
  },
  {
   "cell_type": "code",
   "execution_count": 55,
   "id": "0faa3d2a",
   "metadata": {},
   "outputs": [
    {
     "data": {
      "text/plain": [
       "array([[[[[1, 2, 3],\n",
       "          [4, 5, 6],\n",
       "          [7, 8, 9]]]]])"
      ]
     },
     "execution_count": 55,
     "metadata": {},
     "output_type": "execute_result"
    }
   ],
   "source": [
    "u"
   ]
  },
  {
   "cell_type": "code",
   "execution_count": 56,
   "id": "ea8243e1",
   "metadata": {},
   "outputs": [
    {
     "name": "stdout",
     "output_type": "stream",
     "text": [
      "1\n",
      "2\n",
      "3\n",
      "4\n",
      "5\n",
      "6\n",
      "7\n",
      "8\n",
      "9\n"
     ]
    }
   ],
   "source": [
    "for i in np.nditer(u):\n",
    "    print(i)"
   ]
  },
  {
   "cell_type": "code",
   "execution_count": 57,
   "id": "0ab4f629",
   "metadata": {},
   "outputs": [
    {
     "data": {
      "text/plain": [
       "array([[[[10, 20, 30],\n",
       "         [40, 50, 60],\n",
       "         [70, 80, 90]]]])"
      ]
     },
     "execution_count": 57,
     "metadata": {},
     "output_type": "execute_result"
    }
   ],
   "source": [
    "h = np.array([[[[10,20,30],[40,50,60],[70,80,90]]]])\n",
    "h"
   ]
  },
  {
   "cell_type": "code",
   "execution_count": 59,
   "id": "c6092913",
   "metadata": {},
   "outputs": [
    {
     "name": "stdout",
     "output_type": "stream",
     "text": [
      "10\n",
      "20\n",
      "30\n",
      "40\n",
      "50\n",
      "60\n",
      "70\n",
      "80\n",
      "90\n"
     ]
    }
   ],
   "source": [
    "for i in np.nditer(h):\n",
    "    print(i)"
   ]
  },
  {
   "cell_type": "code",
   "execution_count": 60,
   "id": "5745d494",
   "metadata": {},
   "outputs": [
    {
     "data": {
      "text/plain": [
       "array([[[[10, 20, 30],\n",
       "         [40, 50, 60],\n",
       "         [70, 80, 90]]]])"
      ]
     },
     "execution_count": 60,
     "metadata": {},
     "output_type": "execute_result"
    }
   ],
   "source": [
    "h"
   ]
  },
  {
   "cell_type": "code",
   "execution_count": 62,
   "id": "a2a2a3d9",
   "metadata": {},
   "outputs": [
    {
     "name": "stdout",
     "output_type": "stream",
     "text": [
      "((0, 0, 0, 0), 10)\n",
      "((0, 0, 0, 1), 20)\n",
      "((0, 0, 0, 2), 30)\n",
      "((0, 0, 1, 0), 40)\n",
      "((0, 0, 1, 1), 50)\n",
      "((0, 0, 1, 2), 60)\n",
      "((0, 0, 2, 0), 70)\n",
      "((0, 0, 2, 1), 80)\n",
      "((0, 0, 2, 2), 90)\n"
     ]
    }
   ],
   "source": [
    "for i in np.ndenumerate(h):       # ndenumerate shows index numbers\n",
    "    print(i)"
   ]
  },
  {
   "cell_type": "code",
   "execution_count": 63,
   "id": "58a9a2b2",
   "metadata": {},
   "outputs": [
    {
     "data": {
      "text/plain": [
       "array([10, 20, 30, 40, 50])"
      ]
     },
     "execution_count": 63,
     "metadata": {},
     "output_type": "execute_result"
    }
   ],
   "source": [
    "k = np.array([10,20,30,40,50])\n",
    "k"
   ]
  },
  {
   "cell_type": "code",
   "execution_count": 64,
   "id": "6a39b78b",
   "metadata": {},
   "outputs": [
    {
     "name": "stdout",
     "output_type": "stream",
     "text": [
      "((0,), 10)\n",
      "((1,), 20)\n",
      "((2,), 30)\n",
      "((3,), 40)\n",
      "((4,), 50)\n"
     ]
    }
   ],
   "source": [
    "for i in np.ndenumerate(k):\n",
    "    print(i)"
   ]
  }
 ],
 "metadata": {
  "kernelspec": {
   "display_name": "Python 3 (ipykernel)",
   "language": "python",
   "name": "python3"
  },
  "language_info": {
   "codemirror_mode": {
    "name": "ipython",
    "version": 3
   },
   "file_extension": ".py",
   "mimetype": "text/x-python",
   "name": "python",
   "nbconvert_exporter": "python",
   "pygments_lexer": "ipython3",
   "version": "3.9.12"
  }
 },
 "nbformat": 4,
 "nbformat_minor": 5
}
